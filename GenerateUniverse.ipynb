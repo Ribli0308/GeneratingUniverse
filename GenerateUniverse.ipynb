{
  "nbformat": 4,
  "nbformat_minor": 0,
  "metadata": {
    "colab": {
      "provenance": [],
      "authorship_tag": "ABX9TyOlteHS/Kx4LKz9LkR88MXk",
      "include_colab_link": true
    },
    "kernelspec": {
      "name": "python3",
      "display_name": "Python 3"
    },
    "language_info": {
      "name": "python"
    }
  },
  "cells": [
    {
      "cell_type": "markdown",
      "metadata": {
        "id": "view-in-github",
        "colab_type": "text"
      },
      "source": [
        "<a href=\"https://colab.research.google.com/github/Ribli0308/GeneratingUniverse/blob/main/GenerateUniverse.ipynb\" target=\"_parent\"><img src=\"https://colab.research.google.com/assets/colab-badge.svg\" alt=\"Open In Colab\"/></a>"
      ]
    },
    {
      "cell_type": "code",
      "execution_count": null,
      "metadata": {
        "id": "CG2nMKmNOvgS"
      },
      "outputs": [],
      "source": [
        "import sys\n",
        "import glob\n",
        "from PIL import Image\n",
        "import random\n",
        "from itertools import islice\n",
        "from random import randint\n",
        "import cv2\n",
        "import numpy as np\n",
        "import os"
      ]
    },
    {
      "cell_type": "code",
      "source": [
        "def random_chunk(li, min_chunk=15, max_chunk=500):\n",
        "    it = iter(li)\n",
        "    while True:\n",
        "        nxt = list(islice(it, randint(min_chunk, max_chunk)))\n",
        "        if nxt:\n",
        "            yield nxt\n",
        "        else:\n",
        "            break"
      ],
      "metadata": {
        "id": "n-ShdaEmP9-r"
      },
      "execution_count": null,
      "outputs": []
    },
    {
      "cell_type": "code",
      "source": [
        "def hconcat_resize_min(im_list, interpolation=cv2.INTER_CUBIC):\n",
        "\n",
        "    h_min = min(im.shape[0] for im in im_list)\n",
        "    im_list_resize = [cv2.resize(im, (int(im.shape[1] * h_min / im.shape[0]), h_min), interpolation=interpolation)\n",
        "                      for im in im_list]\n",
        "    return cv2.hconcat(im_list_resize)"
      ],
      "metadata": {
        "id": "kYcStwz7QArD"
      },
      "execution_count": null,
      "outputs": []
    },
    {
      "cell_type": "code",
      "source": [
        "def vconcat_resize_min(im_list, interpolation=cv2.INTER_CUBIC):\n",
        "    w_min = min(im.shape[1] for im in im_list)\n",
        "    im_list_resize = [cv2.resize(im, (w_min, int(im.shape[0] * w_min / im.shape[1])), interpolation=interpolation)\n",
        "                      for im in im_list]\n",
        "    return cv2.vconcat(im_list_resize)"
      ],
      "metadata": {
        "id": "vt3q2TFdQDIm"
      },
      "execution_count": null,
      "outputs": []
    },
    {
      "cell_type": "code",
      "source": [
        "def concat_tile_resize(im_list_2d, interpolation=cv2.INTER_CUBIC):\n",
        "    im_list_v = [hconcat_resize_min(\n",
        "        im_list_h, interpolation=cv2.INTER_CUBIC) for im_list_h in im_list_2d]\n",
        "    return vconcat_resize_min(im_list_v, interpolation=cv2.INTER_CUBIC)"
      ],
      "metadata": {
        "id": "EwE0k383QFb_"
      },
      "execution_count": null,
      "outputs": []
    },
    {
      "cell_type": "code",
      "source": [
        "def rotate_image(image):\n",
        "    rotation_random = random.randrange(0, 4)\n",
        "    if rotation_random == 1:\n",
        "        image = cv2.rotate(image, cv2.ROTATE_90_CLOCKWISE)\n",
        "    elif rotation_random == 2:\n",
        "        image = cv2.rotate(image, cv2.ROTATE_180)\n",
        "    elif rotation_random == 3:\n",
        "        image = cv2.rotate(image, cv2.ROTATE_90_COUNTERCLOCKWISE)\n",
        "    return image"
      ],
      "metadata": {
        "id": "ZjgZXqFXQHvW"
      },
      "execution_count": null,
      "outputs": []
    },
    {
      "cell_type": "code",
      "source": [
        "folder = \"/content/sample_data/generated\""
      ],
      "metadata": {
        "id": "HcGOacXMQKNv"
      },
      "execution_count": null,
      "outputs": []
    },
    {
      "cell_type": "code",
      "source": [
        "filenames = os.listdir(folder)"
      ],
      "metadata": {
        "id": "yDXm2pkxQNqy"
      },
      "execution_count": null,
      "outputs": []
    },
    {
      "cell_type": "code",
      "source": [
        "random_sizes = [420, 410, 400, 390, 380, 370]"
      ],
      "metadata": {
        "id": "wZX52htXQQBF"
      },
      "execution_count": null,
      "outputs": []
    },
    {
      "cell_type": "code",
      "source": [
        "images = []\n",
        "for i in range(0, 2):\n",
        "    for name in filenames:\n",
        "        image = cv2.imread(os.path.join(folder, name))\n",
        "        image = rotate_image(image)\n",
        "        random_size = random.choice(random_sizes)\n",
        "        #image = cv2.resize(image, (random_size, random_size),interpolation=cv2.INTER_AREA)\n",
        "        images.append(image)"
      ],
      "metadata": {
        "id": "LpfUS4V-QSIP"
      },
      "execution_count": null,
      "outputs": []
    },
    {
      "cell_type": "code",
      "source": [
        "for i in range(0, 2000):\n",
        "    empty_tile = cv2.imread(os.path.join(\n",
        "        \"emptyTiles\", str(random.randrange(0, 8)))+\".png\")\n",
        "\n",
        "    random_size = random.choice(random_sizes)\n",
        "    image = rotate_image(image)\n",
        "    #image = cv2.resize(empty_tile, (random_size, random_size), interpolation=cv2.INTER_AREA)\n",
        "    images.append(image)\n"
      ],
      "metadata": {
        "id": "DX4AybIAQUff"
      },
      "execution_count": null,
      "outputs": []
    },
    {
      "cell_type": "code",
      "source": [
        "random.shuffle(images)\n",
        "\n",
        "chunks = list(random_chunk(images))\n",
        "im_tile_resize = concat_tile_resize(chunks)\n",
        "\n",
        "cv2.imwrite('universe.jpg', im_tile_resize)"
      ],
      "metadata": {
        "id": "K3vf6BcZQYbn"
      },
      "execution_count": null,
      "outputs": []
    }
  ]
}